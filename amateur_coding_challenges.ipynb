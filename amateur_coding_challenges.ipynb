{
 "cells": [
  {
   "cell_type": "code",
   "execution_count": 92,
   "metadata": {},
   "outputs": [],
   "source": [
    "import numpy as np\n",
    "import pandas as pd\n",
    "from dateutil.relativedelta import relativedelta\n",
    "from datetime import datetime"
   ]
  },
  {
   "cell_type": "markdown",
   "metadata": {},
   "source": [
    "**amateur_coding_challenge**\n",
    "\n",
    "1. Write a function that returns the SUM of a sequence of numbers. This sequence is determined by three variables: start, finish, and step. The sequence begins at start, ends at finish, and goes up by step until it reaches finish or a number that when increased by step would go past finish.\n",
    "\n",
    "Examples:\n",
    "\n",
    "\n",
    "Input: start: 1 finish: 4 step: 1 | Output: 10\n",
    "\n",
    "Input: start: 4 finish: 10 step: 4| Output: 12\n"
   ]
  },
  {
   "cell_type": "code",
   "execution_count": 15,
   "metadata": {},
   "outputs": [
    {
     "data": {
      "text/plain": [
       "10"
      ]
     },
     "execution_count": 15,
     "metadata": {},
     "output_type": "execute_result"
    }
   ],
   "source": [
    "def sum_range(start = 1, finish = 4, step = 1):\n",
    "    return sum(range(start, finish+1, step))\n",
    "\n",
    "sum_range()"
   ]
  },
  {
   "cell_type": "code",
   "execution_count": 18,
   "metadata": {},
   "outputs": [
    {
     "data": {
      "text/plain": [
       "12"
      ]
     },
     "execution_count": 18,
     "metadata": {},
     "output_type": "execute_result"
    }
   ],
   "source": [
    "sum_range(4,10,4)"
   ]
  },
  {
   "cell_type": "markdown",
   "metadata": {},
   "source": [
    "2. Given a string of any length with any characters in it, write a function to determine whether or not the string contains the whole word \"english\". The order of characters/spelling is important, a string \"agkjnenglishsad\" would return true while \"asdneglihsth\" would return false. Upper and lower case does not matter. Return values should be booleans (true/false).\n",
    "\n",
    "Examples:\n",
    "\n",
    "\n",
    "Input: \"FaagdnglishAGG\" | Output: false\n",
    "\n",
    "Input: \"SMFENgliSHasnD\" | Output: true\n"
   ]
  },
  {
   "cell_type": "code",
   "execution_count": 22,
   "metadata": {},
   "outputs": [
    {
     "data": {
      "text/plain": [
       "False"
      ]
     },
     "execution_count": 22,
     "metadata": {},
     "output_type": "execute_result"
    }
   ],
   "source": [
    "def contains_english(input_string):\n",
    "    return('english' in input_string.lower())\n",
    "\n",
    "contains_english('FaagdnglishAGG')"
   ]
  },
  {
   "cell_type": "code",
   "execution_count": 23,
   "metadata": {},
   "outputs": [
    {
     "data": {
      "text/plain": [
       "True"
      ]
     },
     "execution_count": 23,
     "metadata": {},
     "output_type": "execute_result"
    }
   ],
   "source": [
    "contains_english('SMFENgliSHasnD')"
   ]
  },
  {
   "cell_type": "markdown",
   "metadata": {},
   "source": [
    "3. Given an array of integers, write a function that returns an array of 2 integers. The first integer will be the count of the positive integers, and the second integer will be the sum of the negative integers. If the input is empty or null, return an empty array.\n",
    "\n",
    "Examples:\n",
    "\n",
    "\n",
    "Input: [1, -6, 5, 4, 3, -7, -10, 201, -3] | Output: [5, -26]\n",
    "\n",
    "Input: null | Output: []\n"
   ]
  },
  {
   "cell_type": "code",
   "execution_count": 44,
   "metadata": {},
   "outputs": [
    {
     "data": {
      "text/plain": [
       "[5, -26.0]"
      ]
     },
     "execution_count": 44,
     "metadata": {},
     "output_type": "execute_result"
    }
   ],
   "source": [
    "def count_pos_sum_neg(input= ''):\n",
    "    if input == '':\n",
    "        return []\n",
    "    input= pd.Series(input)\n",
    "    count_pos = input.where(input.values>0).count()\n",
    "    sum_neg = input.where(input.values<0).sum()\n",
    "    return [count_pos, sum_neg]\n",
    "\n",
    "count_pos_sum_neg([1, -6, 5, 4, 3, -7, -10, 201, -3])"
   ]
  },
  {
   "cell_type": "code",
   "execution_count": 45,
   "metadata": {},
   "outputs": [
    {
     "data": {
      "text/plain": [
       "[]"
      ]
     },
     "execution_count": 45,
     "metadata": {},
     "output_type": "execute_result"
    }
   ],
   "source": [
    "count_pos_sum_neg()"
   ]
  },
  {
   "cell_type": "markdown",
   "metadata": {},
   "source": [
    "4. Write a function that translates an input string by replacing each character with a number representing the amount of times that character appears in the string. Then separate each individual number with a different character.\n",
    "\n",
    "Examples:\n",
    "\n",
    "\n",
    "Input: \"hello world\", \"-\" | Output: \"1-1-3-3-2-1-1-2-1-3-1\"\n",
    "\n",
    "Input: \"challenge\", \"/\" | Output: \"1/1/1/2/2/2/1/1/2\"\n"
   ]
  },
  {
   "cell_type": "code",
   "execution_count": 51,
   "metadata": {},
   "outputs": [
    {
     "data": {
      "text/plain": [
       "'1-1-3-3-2-1-1-2-1-3-1'"
      ]
     },
     "execution_count": 51,
     "metadata": {},
     "output_type": "execute_result"
    }
   ],
   "source": [
    "def char_to_char_count(input, split = '-'):\n",
    "    output=''\n",
    "    for char in input:\n",
    "        output += f'{input.count(char)}{split}'\n",
    "    return output[:-1]\n",
    "\n",
    "char_to_char_count('hello world', '-')\n"
   ]
  },
  {
   "cell_type": "code",
   "execution_count": 52,
   "metadata": {},
   "outputs": [
    {
     "data": {
      "text/plain": [
       "'1/1/1/2/2/2/1/1/2'"
      ]
     },
     "execution_count": 52,
     "metadata": {},
     "output_type": "execute_result"
    }
   ],
   "source": [
    "char_to_char_count('challenge', '/')\n"
   ]
  },
  {
   "cell_type": "markdown",
   "metadata": {},
   "source": [
    "5. Given a string of names like this: \"Travis:Meyer;Gene:Carangal;Tom:Young;Jeff:Meyer\", write a function that makes the entire string uppercase and sorts it in alphabetical order by last name. If the last names are the same sort them by the first name. Put the last name in front of the first name, remove the colons and semicolons, put the names in parentheses and separate the names with commas.\n",
    "\n",
    "Example:\n",
    "\n",
    "The end string should look like this: \"(CARANGAL, GENE)(MEYER, JEFF)(MEYER, TRAVIS)(YOUNG, TOM)\"\n",
    "\n"
   ]
  },
  {
   "cell_type": "code",
   "execution_count": 67,
   "metadata": {},
   "outputs": [
    {
     "data": {
      "text/plain": [
       "'(CARANGAL,GENE)(MEYER,JEFF)(MEYER,TRAVIS)(YOUNG,TOM)'"
      ]
     },
     "execution_count": 67,
     "metadata": {},
     "output_type": "execute_result"
    }
   ],
   "source": [
    "def sort_names(input):\n",
    "    names = input.split(';')\n",
    "    last_first_names = []\n",
    "    for name in names:\n",
    "        split_name = name.split(':')\n",
    "        last_first_names += [[split_name[1], split_name[0]]]\n",
    "    \n",
    "    last_first_names.sort()\n",
    "    output = ''\n",
    "    for name in last_first_names:\n",
    "        output += f'({name[0]},{name[1]})'\n",
    "    return output.upper()\n",
    "\n",
    "sort_names(\"Travis:Meyer;Gene:Carangal;Tom:Young;Jeff:Meyer\")"
   ]
  },
  {
   "cell_type": "markdown",
   "metadata": {},
   "source": [
    "6. Write a function to calculate a person’s age based on the date entered in the format MM/DD/YYYY.\n",
    "\n",
    "Example:\n",
    "\n",
    "\n",
    "Input: 11/04/1982\n",
    "Output: 34 #this was made in a different year\n"
   ]
  },
  {
   "cell_type": "code",
   "execution_count": 94,
   "metadata": {},
   "outputs": [
    {
     "data": {
      "text/plain": [
       "-39"
      ]
     },
     "execution_count": 94,
     "metadata": {},
     "output_type": "execute_result"
    }
   ],
   "source": [
    "date ='11/04/1982'\n",
    "birth_date = datetime.strptime(date, '%m/%d/%Y')\n",
    "relativedelta(birth_date, datetime.today()).years\n"
   ]
  },
  {
   "cell_type": "code",
   "execution_count": 97,
   "metadata": {},
   "outputs": [
    {
     "data": {
      "text/plain": [
       "-39"
      ]
     },
     "execution_count": 97,
     "metadata": {},
     "output_type": "execute_result"
    }
   ],
   "source": [
    "def age_from_date(date):\n",
    "    birth_date = datetime.strptime(date, '%m/%d/%Y')\n",
    "    return relativedelta(birth_date, datetime.today()).years\n",
    "\n",
    "age_from_date('11/04/1982')"
   ]
  },
  {
   "cell_type": "markdown",
   "metadata": {},
   "source": [
    "7. Write a function to convert a string into an array of words.\n",
    "\n",
    "Example:\n",
    "\n",
    "\n",
    "Input: \"Trick or Treat\"\n",
    "\n",
    "Output: [‘Trick’, ‘or’, ‘Treat’]\n"
   ]
  },
  {
   "cell_type": "code",
   "execution_count": 99,
   "metadata": {},
   "outputs": [
    {
     "data": {
      "text/plain": [
       "['Trick', 'or', 'Treat']"
      ]
     },
     "execution_count": 99,
     "metadata": {},
     "output_type": "execute_result"
    }
   ],
   "source": [
    "def split_string(string):\n",
    "    return string.split().asarray\n",
    "\n",
    "split_string('Trick or Treat')"
   ]
  },
  {
   "cell_type": "markdown",
   "metadata": {},
   "source": [
    "8. Write a function to count the number of occurrences of a substring in a given string.\n",
    "\n",
    "Example:\n",
    "\n",
    "\n",
    "Input: \"The pumpkin rolled down the hill and under someone’s car.\", \"the\"\n",
    "Output: 2\n"
   ]
  },
  {
   "cell_type": "code",
   "execution_count": 101,
   "metadata": {},
   "outputs": [
    {
     "data": {
      "text/plain": [
       "2"
      ]
     },
     "execution_count": 101,
     "metadata": {},
     "output_type": "execute_result"
    }
   ],
   "source": [
    "def count_substring(string, substring):\n",
    "    return string.lower().count(substring)\n",
    "\n",
    "count_substring(\"The pumpkin rolled down the hill and under someone’s car.\", \"the\")"
   ]
  },
  {
   "cell_type": "markdown",
   "metadata": {},
   "source": [
    "9. Write a function to remove these special characters from a string: ~,!,$,&,%, ,#,@,-,_,^,? (yes, \"space\" is a character in that list)\n",
    "\n",
    "Examples:\n",
    "\n",
    "\n",
    "Input: \"Happy ~!&$%#@- Halloween\" | Output: \"HappyHalloween\"\n",
    "Input: \"I’ll bet living in a nudist-colony takes all the fun out of Halloween!!\" | Output: \"IllbetlivinginanudistcolonytakesallthefunoutofHalloween\"\n"
   ]
  },
  {
   "cell_type": "code",
   "execution_count": 104,
   "metadata": {},
   "outputs": [
    {
     "data": {
      "text/plain": [
       "\"~','!','$','&','%',' ','#','@','-','_','^','?\""
      ]
     },
     "execution_count": 104,
     "metadata": {},
     "output_type": "execute_result"
    }
   ],
   "source": [
    "special_chars = '~,!,$,&,%, ,#,@,-,_,^,?'.replace(',',\"','\")\n",
    "special_chars\n"
   ]
  },
  {
   "cell_type": "code",
   "execution_count": 114,
   "metadata": {},
   "outputs": [
    {
     "data": {
      "text/plain": [
       "'HappyHalloween'"
      ]
     },
     "execution_count": 114,
     "metadata": {},
     "output_type": "execute_result"
    }
   ],
   "source": [
    "def remove_special_chars(string,special_chars = ['~','!','$','&','%','’',' ','#','@','-','_','^','?']):\n",
    "    for char in special_chars:\n",
    "        string = string.replace(char, '', )\n",
    "    return string\n",
    "\n",
    "remove_special_chars(\"Happy ~!&$%#@- Halloween\")"
   ]
  },
  {
   "cell_type": "code",
   "execution_count": 115,
   "metadata": {},
   "outputs": [
    {
     "data": {
      "text/plain": [
       "'IllbetlivinginanudistcolonytakesallthefunoutofHalloween'"
      ]
     },
     "execution_count": 115,
     "metadata": {},
     "output_type": "execute_result"
    }
   ],
   "source": [
    "remove_special_chars(\"I’ll bet living in a nudist-colony takes all the fun out of Halloween!!\")"
   ]
  },
  {
   "cell_type": "markdown",
   "metadata": {},
   "source": [
    "10. Write a function called \"multiply\" that takes two integers and returns the product. You are NOT allowed to use the * operator or any imported multiplication function. We will check your code.\n",
    "\n",
    "Example:\n",
    "\n",
    "\n",
    "Input: multiply(5, 6) | Output: 30\n",
    "\n",
    "Input: multiply(-1, 15) | Output: -15\n",
    "\n",
    "Input: multiply(-2, -7) | Output: 14\n"
   ]
  },
  {
   "cell_type": "code",
   "execution_count": 136,
   "metadata": {},
   "outputs": [
    {
     "data": {
      "text/plain": [
       "30"
      ]
     },
     "execution_count": 136,
     "metadata": {},
     "output_type": "execute_result"
    }
   ],
   "source": [
    "def multiply(int1,int2):\n",
    "    product = 0\n",
    "    if int2>0:\n",
    "        for i in range(int2):\n",
    "            product += int1\n",
    "    else:\n",
    "        for i in range(0-int2):\n",
    "            product -= int1\n",
    "    return product\n",
    "\n",
    "multiply(5, 6)"
   ]
  },
  {
   "cell_type": "code",
   "execution_count": 128,
   "metadata": {},
   "outputs": [
    {
     "data": {
      "text/plain": [
       "-15"
      ]
     },
     "execution_count": 128,
     "metadata": {},
     "output_type": "execute_result"
    }
   ],
   "source": [
    "multiply(-1, 15)"
   ]
  },
  {
   "cell_type": "code",
   "execution_count": 137,
   "metadata": {},
   "outputs": [
    {
     "data": {
      "text/plain": [
       "14"
      ]
     },
     "execution_count": 137,
     "metadata": {},
     "output_type": "execute_result"
    }
   ],
   "source": [
    "multiply(-2, -7)"
   ]
  },
  {
   "cell_type": "markdown",
   "metadata": {},
   "source": [
    "11. Write a function that takes a string and returns true if all of the characters are the same case, false otherwise.\n",
    "\n",
    "Examples:\n",
    "\n",
    "\n",
    "Input: \"hello world\" | Output: true\n",
    "\n",
    "Input: \"HELLO WORLD\" | Output: true\n",
    "\n",
    "Input: \"HeLLo wORld\" | Output: false\n"
   ]
  },
  {
   "cell_type": "code",
   "execution_count": 119,
   "metadata": {},
   "outputs": [
    {
     "data": {
      "text/plain": [
       "True"
      ]
     },
     "execution_count": 119,
     "metadata": {},
     "output_type": "execute_result"
    }
   ],
   "source": [
    "def same_case(string):\n",
    "    if string[0].isupper():\n",
    "        return string.isupper()\n",
    "    return string.islower()\n",
    "\n",
    "same_case(\"hello world\")"
   ]
  },
  {
   "cell_type": "code",
   "execution_count": 120,
   "metadata": {},
   "outputs": [
    {
     "data": {
      "text/plain": [
       "True"
      ]
     },
     "execution_count": 120,
     "metadata": {},
     "output_type": "execute_result"
    }
   ],
   "source": [
    "same_case(\"HELLO WORLD\")"
   ]
  },
  {
   "cell_type": "code",
   "execution_count": 121,
   "metadata": {},
   "outputs": [
    {
     "data": {
      "text/plain": [
       "False"
      ]
     },
     "execution_count": 121,
     "metadata": {},
     "output_type": "execute_result"
    }
   ],
   "source": [
    "same_case(\"HeLLo wORld\")"
   ]
  },
  {
   "cell_type": "markdown",
   "metadata": {},
   "source": [
    "12. Write a function that takes an array of integers and returns an array of integers where each number is the sum of itself and all of the previous numbers in the array.\n",
    "\n",
    "Example:\n",
    "\n",
    "\n",
    "Input: [1, 1, 1] | Output: [1, 2, 3]\n",
    "\n",
    "Input: [4, 2, 1, 3, 5] | Output: [4, 6, 7, 10, 15]\n"
   ]
  },
  {
   "cell_type": "code",
   "execution_count": 139,
   "metadata": {},
   "outputs": [
    {
     "data": {
      "text/plain": [
       "[1, 2, 3]"
      ]
     },
     "execution_count": 139,
     "metadata": {},
     "output_type": "execute_result"
    }
   ],
   "source": [
    "def sum_array(array):\n",
    "    output = []\n",
    "    current_sum = 0\n",
    "    for num in array:\n",
    "        current_sum += num\n",
    "        output.append(current_sum)\n",
    "    return output\n",
    "\n",
    "sum_array([1, 1, 1] )"
   ]
  },
  {
   "cell_type": "code",
   "execution_count": 141,
   "metadata": {},
   "outputs": [
    {
     "data": {
      "text/plain": [
       "[4, 6, 7, 10, 15]"
      ]
     },
     "execution_count": 141,
     "metadata": {},
     "output_type": "execute_result"
    }
   ],
   "source": [
    "sum_array([4, 2, 1, 3, 5])"
   ]
  },
  {
   "cell_type": "markdown",
   "metadata": {},
   "source": [
    "13. An Isogram is a word that has no repeating letters, consecutive or not. Write a function that takes a string and returns true if it’s an isogram and false if it isn’t.\n",
    "\n",
    "Examples:\n",
    "\n",
    "\n",
    "Input: \"fish\" | Output: true\n",
    "\n",
    "Input: \"food\" | Output: false\n",
    "\n",
    "Input: \"color\" | Output: false\n"
   ]
  },
  {
   "cell_type": "code",
   "execution_count": 144,
   "metadata": {},
   "outputs": [
    {
     "data": {
      "text/plain": [
       "True"
      ]
     },
     "execution_count": 144,
     "metadata": {},
     "output_type": "execute_result"
    }
   ],
   "source": [
    "def is_isogram(string):\n",
    "    for char in string:\n",
    "        if(string.count(char)>1):\n",
    "            return False\n",
    "    return True\n",
    "\n",
    "is_isogram('fish')    "
   ]
  },
  {
   "cell_type": "code",
   "execution_count": 145,
   "metadata": {},
   "outputs": [
    {
     "data": {
      "text/plain": [
       "False"
      ]
     },
     "execution_count": 145,
     "metadata": {},
     "output_type": "execute_result"
    }
   ],
   "source": [
    "is_isogram('food')"
   ]
  },
  {
   "cell_type": "code",
   "execution_count": 146,
   "metadata": {},
   "outputs": [
    {
     "data": {
      "text/plain": [
       "False"
      ]
     },
     "execution_count": 146,
     "metadata": {},
     "output_type": "execute_result"
    }
   ],
   "source": [
    "is_isogram('color')"
   ]
  },
  {
   "cell_type": "markdown",
   "metadata": {},
   "source": [
    "14. Write a function that takes a phone number with letters in it and converts it to one with only numbers. All input phone numbers will follow this pattern: \"###-###-####\" (Hint: Search for \"phone keypad\")\n",
    "\n",
    "Examples:\n",
    "\n",
    "\n",
    "Input: 210-367-CODE | Output: 210-367-2633\n",
    "\n",
    "Input: TRY-THE-FOOD | Output: 879-843-3663\n"
   ]
  },
  {
   "cell_type": "code",
   "execution_count": null,
   "metadata": {},
   "outputs": [],
   "source": []
  },
  {
   "cell_type": "markdown",
   "metadata": {},
   "source": [
    "15. Write a function that returns all possible partitions of an array from left to right. With an n amount of elements in the input the returned array should have n-1 subarrays. An empty array should return an empty array.\n",
    "\n",
    "Examples:\n",
    "\n",
    "\n",
    "Input: [1, 5, 3, 2] | Output: [[[1], [5, 3, 2]], [[1, 5], [3, 2]], [[1, 5, 3], [2]]]\n",
    "Input: [a, b, c] | Output: [[[a], [b, c]], [[a, b], [c]]]**"
   ]
  }
 ],
 "metadata": {
  "interpreter": {
   "hash": "3067ead486e059ec00ffe7555bdb889e6e264a24dc711bf108106cc7baee8d5d"
  },
  "kernelspec": {
   "display_name": "Python 3.9.7 ('base')",
   "language": "python",
   "name": "python3"
  },
  "language_info": {
   "codemirror_mode": {
    "name": "ipython",
    "version": 3
   },
   "file_extension": ".py",
   "mimetype": "text/x-python",
   "name": "python",
   "nbconvert_exporter": "python",
   "pygments_lexer": "ipython3",
   "version": "3.9.7"
  },
  "orig_nbformat": 4
 },
 "nbformat": 4,
 "nbformat_minor": 2
}
